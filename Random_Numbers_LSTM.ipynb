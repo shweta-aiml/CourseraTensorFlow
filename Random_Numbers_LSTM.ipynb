{
  "nbformat": 4,
  "nbformat_minor": 0,
  "metadata": {
    "colab": {
      "name": "Random Numbers LSTM.ipynb",
      "provenance": [],
      "include_colab_link": true
    },
    "kernelspec": {
      "name": "python3",
      "display_name": "Python 3"
    },
    "accelerator": "GPU"
  },
  "cells": [
    {
      "cell_type": "markdown",
      "metadata": {
        "id": "view-in-github",
        "colab_type": "text"
      },
      "source": [
        "<a href=\"https://colab.research.google.com/github/shweta-aiml/CourseraTensorFlow/blob/master/Random_Numbers_LSTM.ipynb\" target=\"_parent\"><img src=\"https://colab.research.google.com/assets/colab-badge.svg\" alt=\"Open In Colab\"/></a>"
      ]
    },
    {
      "cell_type": "code",
      "metadata": {
        "id": "Olepszd3tZNE",
        "colab_type": "code",
        "colab": {
          "base_uri": "https://localhost:8080/",
          "height": 164
        },
        "outputId": "859b8270-e9c4-437a-af72-3d9cd0b3b696"
      },
      "source": [
        ""
      ],
      "execution_count": 1,
      "outputs": [
        {
          "output_type": "error",
          "ename": "NameError",
          "evalue": "ignored",
          "traceback": [
            "\u001b[0;31m---------------------------------------------------------------------------\u001b[0m",
            "\u001b[0;31mNameError\u001b[0m                                 Traceback (most recent call last)",
            "\u001b[0;32m<ipython-input-1-65996cac02ec>\u001b[0m in \u001b[0;36m<module>\u001b[0;34m()\u001b[0m\n\u001b[0;32m----> 1\u001b[0;31m \u001b[0mtf\u001b[0m\u001b[0;34m.\u001b[0m\u001b[0m__version__\u001b[0m\u001b[0;34m\u001b[0m\u001b[0;34m\u001b[0m\u001b[0m\n\u001b[0m",
            "\u001b[0;31mNameError\u001b[0m: name 'tf' is not defined"
          ]
        }
      ]
    },
    {
      "cell_type": "code",
      "metadata": {
        "id": "4Rl2oJcQtcnq",
        "colab_type": "code",
        "colab": {
          "base_uri": "https://localhost:8080/",
          "height": 956
        },
        "outputId": "486f52d1-34a9-4edb-d683-36813c10733c"
      },
      "source": [
        "!pip install tf-nightly-2.0-preview\n"
      ],
      "execution_count": 3,
      "outputs": [
        {
          "output_type": "stream",
          "text": [
            "Collecting tf-nightly-2.0-preview\n",
            "\u001b[?25l  Downloading https://files.pythonhosted.org/packages/b8/be/e4e2cc0b4896648fe6d5e45dda6d8c3b784823301708cfe4ff96de9e01cf/tf_nightly_2.0_preview-2.0.0.dev20191002-cp36-cp36m-manylinux2010_x86_64.whl (95.2MB)\n",
            "\u001b[K     |████████████████████████████████| 95.2MB 33.6MB/s \n",
            "\u001b[?25hRequirement already satisfied: astor>=0.6.0 in /usr/local/lib/python3.6/dist-packages (from tf-nightly-2.0-preview) (0.8.0)\n",
            "Requirement already satisfied: gast==0.2.2 in /usr/local/lib/python3.6/dist-packages (from tf-nightly-2.0-preview) (0.2.2)\n",
            "Collecting tb-nightly<2.2.0a0,>=2.1.0a0\n",
            "\u001b[?25l  Downloading https://files.pythonhosted.org/packages/53/3f/aad9d9ad9fb82475f27f83fbfa1193aababfd5df05a92d847e7f8af2d9e9/tb_nightly-2.1.0a20191127-py3-none-any.whl (3.8MB)\n",
            "\u001b[K     |████████████████████████████████| 3.8MB 34.8MB/s \n",
            "\u001b[?25hRequirement already satisfied: protobuf>=3.6.1 in /usr/local/lib/python3.6/dist-packages (from tf-nightly-2.0-preview) (3.10.0)\n",
            "Requirement already satisfied: absl-py>=0.7.0 in /usr/local/lib/python3.6/dist-packages (from tf-nightly-2.0-preview) (0.8.1)\n",
            "Requirement already satisfied: grpcio>=1.8.6 in /usr/local/lib/python3.6/dist-packages (from tf-nightly-2.0-preview) (1.15.0)\n",
            "Requirement already satisfied: wrapt>=1.11.1 in /usr/local/lib/python3.6/dist-packages (from tf-nightly-2.0-preview) (1.11.2)\n",
            "Requirement already satisfied: six>=1.10.0 in /usr/local/lib/python3.6/dist-packages (from tf-nightly-2.0-preview) (1.12.0)\n",
            "Requirement already satisfied: google-pasta>=0.1.6 in /usr/local/lib/python3.6/dist-packages (from tf-nightly-2.0-preview) (0.1.8)\n",
            "Requirement already satisfied: keras-preprocessing>=1.0.5 in /usr/local/lib/python3.6/dist-packages (from tf-nightly-2.0-preview) (1.1.0)\n",
            "Requirement already satisfied: wheel>=0.26; python_version >= \"3\" in /usr/local/lib/python3.6/dist-packages (from tf-nightly-2.0-preview) (0.33.6)\n",
            "Requirement already satisfied: keras-applications>=1.0.8 in /usr/local/lib/python3.6/dist-packages (from tf-nightly-2.0-preview) (1.0.8)\n",
            "Requirement already satisfied: numpy<2.0,>=1.16.0 in /usr/local/lib/python3.6/dist-packages (from tf-nightly-2.0-preview) (1.17.4)\n",
            "Requirement already satisfied: opt-einsum>=2.3.2 in /usr/local/lib/python3.6/dist-packages (from tf-nightly-2.0-preview) (3.1.0)\n",
            "Collecting tensorflow-estimator-2.0-preview\n",
            "\u001b[?25l  Downloading https://files.pythonhosted.org/packages/db/f5/790508e193121ab301cb40cada7f451c531404051ac9249f21b1f5484450/tensorflow_estimator_2.0_preview-2.0.0-py2.py3-none-any.whl (449kB)\n",
            "\u001b[K     |████████████████████████████████| 450kB 39.7MB/s \n",
            "\u001b[?25hRequirement already satisfied: termcolor>=1.1.0 in /usr/local/lib/python3.6/dist-packages (from tf-nightly-2.0-preview) (1.1.0)\n",
            "Requirement already satisfied: google-auth-oauthlib<0.5,>=0.4.1 in /usr/local/lib/python3.6/dist-packages (from tb-nightly<2.2.0a0,>=2.1.0a0->tf-nightly-2.0-preview) (0.4.1)\n",
            "Requirement already satisfied: setuptools>=41.0.0 in /usr/local/lib/python3.6/dist-packages (from tb-nightly<2.2.0a0,>=2.1.0a0->tf-nightly-2.0-preview) (41.6.0)\n",
            "Requirement already satisfied: werkzeug>=0.11.15 in /usr/local/lib/python3.6/dist-packages (from tb-nightly<2.2.0a0,>=2.1.0a0->tf-nightly-2.0-preview) (0.16.0)\n",
            "Requirement already satisfied: requests<3,>=2.21.0 in /usr/local/lib/python3.6/dist-packages (from tb-nightly<2.2.0a0,>=2.1.0a0->tf-nightly-2.0-preview) (2.21.0)\n",
            "Collecting google-auth<2,>=1.6.3\n",
            "\u001b[?25l  Downloading https://files.pythonhosted.org/packages/7b/cb/786dc53d93494784935a62947643b48250b84a882474e714f9af5e1a1928/google_auth-1.7.1-py2.py3-none-any.whl (74kB)\n",
            "\u001b[K     |████████████████████████████████| 81kB 8.1MB/s \n",
            "\u001b[?25hRequirement already satisfied: markdown>=2.6.8 in /usr/local/lib/python3.6/dist-packages (from tb-nightly<2.2.0a0,>=2.1.0a0->tf-nightly-2.0-preview) (3.1.1)\n",
            "Requirement already satisfied: h5py in /usr/local/lib/python3.6/dist-packages (from keras-applications>=1.0.8->tf-nightly-2.0-preview) (2.8.0)\n",
            "Requirement already satisfied: requests-oauthlib>=0.7.0 in /usr/local/lib/python3.6/dist-packages (from google-auth-oauthlib<0.5,>=0.4.1->tb-nightly<2.2.0a0,>=2.1.0a0->tf-nightly-2.0-preview) (1.3.0)\n",
            "Requirement already satisfied: certifi>=2017.4.17 in /usr/local/lib/python3.6/dist-packages (from requests<3,>=2.21.0->tb-nightly<2.2.0a0,>=2.1.0a0->tf-nightly-2.0-preview) (2019.9.11)\n",
            "Requirement already satisfied: chardet<3.1.0,>=3.0.2 in /usr/local/lib/python3.6/dist-packages (from requests<3,>=2.21.0->tb-nightly<2.2.0a0,>=2.1.0a0->tf-nightly-2.0-preview) (3.0.4)\n",
            "Requirement already satisfied: urllib3<1.25,>=1.21.1 in /usr/local/lib/python3.6/dist-packages (from requests<3,>=2.21.0->tb-nightly<2.2.0a0,>=2.1.0a0->tf-nightly-2.0-preview) (1.24.3)\n",
            "Requirement already satisfied: idna<2.9,>=2.5 in /usr/local/lib/python3.6/dist-packages (from requests<3,>=2.21.0->tb-nightly<2.2.0a0,>=2.1.0a0->tf-nightly-2.0-preview) (2.8)\n",
            "Requirement already satisfied: rsa<4.1,>=3.1.4 in /usr/local/lib/python3.6/dist-packages (from google-auth<2,>=1.6.3->tb-nightly<2.2.0a0,>=2.1.0a0->tf-nightly-2.0-preview) (4.0)\n",
            "Requirement already satisfied: pyasn1-modules>=0.2.1 in /usr/local/lib/python3.6/dist-packages (from google-auth<2,>=1.6.3->tb-nightly<2.2.0a0,>=2.1.0a0->tf-nightly-2.0-preview) (0.2.7)\n",
            "Requirement already satisfied: cachetools<3.2,>=2.0.0 in /usr/local/lib/python3.6/dist-packages (from google-auth<2,>=1.6.3->tb-nightly<2.2.0a0,>=2.1.0a0->tf-nightly-2.0-preview) (3.1.1)\n",
            "Requirement already satisfied: oauthlib>=3.0.0 in /usr/local/lib/python3.6/dist-packages (from requests-oauthlib>=0.7.0->google-auth-oauthlib<0.5,>=0.4.1->tb-nightly<2.2.0a0,>=2.1.0a0->tf-nightly-2.0-preview) (3.1.0)\n",
            "Requirement already satisfied: pyasn1>=0.1.3 in /usr/local/lib/python3.6/dist-packages (from rsa<4.1,>=3.1.4->google-auth<2,>=1.6.3->tb-nightly<2.2.0a0,>=2.1.0a0->tf-nightly-2.0-preview) (0.4.7)\n",
            "\u001b[31mERROR: google-colab 1.0.0 has requirement google-auth~=1.4.0, but you'll have google-auth 1.7.1 which is incompatible.\u001b[0m\n",
            "\u001b[31mERROR: tb-nightly 2.1.0a20191127 has requirement grpcio>=1.24.3, but you'll have grpcio 1.15.0 which is incompatible.\u001b[0m\n",
            "Installing collected packages: google-auth, tb-nightly, tensorflow-estimator-2.0-preview, tf-nightly-2.0-preview\n",
            "  Found existing installation: google-auth 1.4.2\n",
            "    Uninstalling google-auth-1.4.2:\n",
            "      Successfully uninstalled google-auth-1.4.2\n",
            "Successfully installed google-auth-1.7.1 tb-nightly-2.1.0a20191127 tensorflow-estimator-2.0-preview-2.0.0 tf-nightly-2.0-preview-2.0.0.dev20191002\n"
          ],
          "name": "stdout"
        },
        {
          "output_type": "display_data",
          "data": {
            "application/vnd.colab-display-data+json": {
              "pip_warning": {
                "packages": [
                  "google",
                  "tensorboard",
                  "tensorflow",
                  "tensorflow_core",
                  "tensorflow_estimator"
                ]
              }
            }
          },
          "metadata": {
            "tags": []
          }
        }
      ]
    },
    {
      "cell_type": "code",
      "metadata": {
        "id": "sZ2p_Xn3cQpN",
        "colab_type": "code",
        "colab": {
          "base_uri": "https://localhost:8080/",
          "height": 34
        },
        "outputId": "4490fd6a-da92-4dd0-a808-32691ff8d21b"
      },
      "source": [
        "import pandas as pd  \n",
        "from random import random\n",
        "import tensorflow as tf\n",
        "tf.__version__"
      ],
      "execution_count": 1,
      "outputs": [
        {
          "output_type": "execute_result",
          "data": {
            "text/plain": [
              "'2.0.0-dev20191002'"
            ]
          },
          "metadata": {
            "tags": []
          },
          "execution_count": 1
        }
      ]
    },
    {
      "cell_type": "code",
      "metadata": {
        "id": "K1uaAy-6aIuR",
        "colab_type": "code",
        "colab": {}
      },
      "source": [
        "flow = (list(range(1,10,1)) + list(range(10,1,-1)))*1000  \n",
        "pdata = pd.DataFrame({\"a\":flow, \"b\":flow})  \n",
        "pdata.b = pdata.b.shift(9)  \n",
        "data = pdata.iloc[10:] * random() "
      ],
      "execution_count": 0,
      "outputs": []
    },
    {
      "cell_type": "code",
      "metadata": {
        "id": "LjGkMjV9nwYB",
        "colab_type": "code",
        "colab": {
          "base_uri": "https://localhost:8080/",
          "height": 34
        },
        "outputId": "0d8e1b1a-dfaf-47c9-91be-6069dd50348f"
      },
      "source": [
        "data.size"
      ],
      "execution_count": 3,
      "outputs": [
        {
          "output_type": "execute_result",
          "data": {
            "text/plain": [
              "35980"
            ]
          },
          "metadata": {
            "tags": []
          },
          "execution_count": 3
        }
      ]
    },
    {
      "cell_type": "code",
      "metadata": {
        "id": "3SiBWI1uotOR",
        "colab_type": "code",
        "colab": {}
      },
      "source": [
        "import numpy as np\n",
        "\n",
        "def _load_data(data, n_prev = 100):  \n",
        "    \"\"\"\n",
        "    data should be pd.DataFrame()\n",
        "    \"\"\"\n",
        "\n",
        "    docX, docY = [], []\n",
        "    for i in range(len(data)-n_prev):\n",
        "        docX.append(data.iloc[i:i+n_prev].as_matrix())\n",
        "        docY.append(data.iloc[i+n_prev].as_matrix())\n",
        "    alsX = np.array(docX)\n",
        "    alsY = np.array(docY)\n",
        "\n",
        "    return alsX, alsY\n",
        "\n",
        "def train_test_split(df, test_size=0.1):  \n",
        "    \"\"\"\n",
        "    This just splits data to training and testing parts\n",
        "    \"\"\"\n",
        "    ntrn = round(len(df) * (1 - test_size))\n",
        "\n",
        "    X_train, y_train = _load_data(df.iloc[0:ntrn])\n",
        "    X_test, y_test = _load_data(df.iloc[ntrn:])\n",
        "\n",
        "    return (X_train, y_train), (X_test, y_test)"
      ],
      "execution_count": 0,
      "outputs": []
    },
    {
      "cell_type": "code",
      "metadata": {
        "id": "AQHK3_KNoxyo",
        "colab_type": "code",
        "colab": {
          "base_uri": "https://localhost:8080/",
          "height": 105
        },
        "outputId": "1b7933ed-981c-4e41-cffa-0d788ade80be"
      },
      "source": [
        "(X_train, y_train), (X_test, y_test) = train_test_split(data)  # retrieve data\n"
      ],
      "execution_count": 5,
      "outputs": [
        {
          "output_type": "stream",
          "text": [
            "/usr/local/lib/python3.6/dist-packages/ipykernel_launcher.py:10: FutureWarning: Method .as_matrix will be removed in a future version. Use .values instead.\n",
            "  # Remove the CWD from sys.path while we load stuff.\n",
            "/usr/local/lib/python3.6/dist-packages/ipykernel_launcher.py:11: FutureWarning: Method .as_matrix will be removed in a future version. Use .values instead.\n",
            "  # This is added back by InteractiveShellApp.init_path()\n"
          ],
          "name": "stderr"
        }
      ]
    },
    {
      "cell_type": "code",
      "metadata": {
        "id": "1nG40Ka8ozAK",
        "colab_type": "code",
        "colab": {
          "base_uri": "https://localhost:8080/",
          "height": 34
        },
        "outputId": "247e0524-2f83-49e1-ffb8-8bc76ae5d7dd"
      },
      "source": [
        "X_train.shape,y_train.shape"
      ],
      "execution_count": 7,
      "outputs": [
        {
          "output_type": "execute_result",
          "data": {
            "text/plain": [
              "((16091, 100, 2), (16091, 2))"
            ]
          },
          "metadata": {
            "tags": []
          },
          "execution_count": 7
        }
      ]
    },
    {
      "cell_type": "code",
      "metadata": {
        "id": "HSWwzopHpQ1R",
        "colab_type": "code",
        "colab": {
          "base_uri": "https://localhost:8080/",
          "height": 1000
        },
        "outputId": "89117ece-346b-444e-f760-311a5ac25e79"
      },
      "source": [
        "X_train[0],y_train[0]"
      ],
      "execution_count": 6,
      "outputs": [
        {
          "output_type": "execute_result",
          "data": {
            "text/plain": [
              "(array([[7.51084721, 1.66907716],\n",
              "        [6.67630863, 2.50361574],\n",
              "        [5.84177005, 3.33815432],\n",
              "        [5.00723147, 4.1726929 ],\n",
              "        [4.1726929 , 5.00723147],\n",
              "        [3.33815432, 5.84177005],\n",
              "        [2.50361574, 6.67630863],\n",
              "        [1.66907716, 7.51084721],\n",
              "        [0.83453858, 8.34538579],\n",
              "        [1.66907716, 7.51084721],\n",
              "        [2.50361574, 6.67630863],\n",
              "        [3.33815432, 5.84177005],\n",
              "        [4.1726929 , 5.00723147],\n",
              "        [5.00723147, 4.1726929 ],\n",
              "        [5.84177005, 3.33815432],\n",
              "        [6.67630863, 2.50361574],\n",
              "        [7.51084721, 1.66907716],\n",
              "        [8.34538579, 0.83453858],\n",
              "        [7.51084721, 1.66907716],\n",
              "        [6.67630863, 2.50361574],\n",
              "        [5.84177005, 3.33815432],\n",
              "        [5.00723147, 4.1726929 ],\n",
              "        [4.1726929 , 5.00723147],\n",
              "        [3.33815432, 5.84177005],\n",
              "        [2.50361574, 6.67630863],\n",
              "        [1.66907716, 7.51084721],\n",
              "        [0.83453858, 8.34538579],\n",
              "        [1.66907716, 7.51084721],\n",
              "        [2.50361574, 6.67630863],\n",
              "        [3.33815432, 5.84177005],\n",
              "        [4.1726929 , 5.00723147],\n",
              "        [5.00723147, 4.1726929 ],\n",
              "        [5.84177005, 3.33815432],\n",
              "        [6.67630863, 2.50361574],\n",
              "        [7.51084721, 1.66907716],\n",
              "        [8.34538579, 0.83453858],\n",
              "        [7.51084721, 1.66907716],\n",
              "        [6.67630863, 2.50361574],\n",
              "        [5.84177005, 3.33815432],\n",
              "        [5.00723147, 4.1726929 ],\n",
              "        [4.1726929 , 5.00723147],\n",
              "        [3.33815432, 5.84177005],\n",
              "        [2.50361574, 6.67630863],\n",
              "        [1.66907716, 7.51084721],\n",
              "        [0.83453858, 8.34538579],\n",
              "        [1.66907716, 7.51084721],\n",
              "        [2.50361574, 6.67630863],\n",
              "        [3.33815432, 5.84177005],\n",
              "        [4.1726929 , 5.00723147],\n",
              "        [5.00723147, 4.1726929 ],\n",
              "        [5.84177005, 3.33815432],\n",
              "        [6.67630863, 2.50361574],\n",
              "        [7.51084721, 1.66907716],\n",
              "        [8.34538579, 0.83453858],\n",
              "        [7.51084721, 1.66907716],\n",
              "        [6.67630863, 2.50361574],\n",
              "        [5.84177005, 3.33815432],\n",
              "        [5.00723147, 4.1726929 ],\n",
              "        [4.1726929 , 5.00723147],\n",
              "        [3.33815432, 5.84177005],\n",
              "        [2.50361574, 6.67630863],\n",
              "        [1.66907716, 7.51084721],\n",
              "        [0.83453858, 8.34538579],\n",
              "        [1.66907716, 7.51084721],\n",
              "        [2.50361574, 6.67630863],\n",
              "        [3.33815432, 5.84177005],\n",
              "        [4.1726929 , 5.00723147],\n",
              "        [5.00723147, 4.1726929 ],\n",
              "        [5.84177005, 3.33815432],\n",
              "        [6.67630863, 2.50361574],\n",
              "        [7.51084721, 1.66907716],\n",
              "        [8.34538579, 0.83453858],\n",
              "        [7.51084721, 1.66907716],\n",
              "        [6.67630863, 2.50361574],\n",
              "        [5.84177005, 3.33815432],\n",
              "        [5.00723147, 4.1726929 ],\n",
              "        [4.1726929 , 5.00723147],\n",
              "        [3.33815432, 5.84177005],\n",
              "        [2.50361574, 6.67630863],\n",
              "        [1.66907716, 7.51084721],\n",
              "        [0.83453858, 8.34538579],\n",
              "        [1.66907716, 7.51084721],\n",
              "        [2.50361574, 6.67630863],\n",
              "        [3.33815432, 5.84177005],\n",
              "        [4.1726929 , 5.00723147],\n",
              "        [5.00723147, 4.1726929 ],\n",
              "        [5.84177005, 3.33815432],\n",
              "        [6.67630863, 2.50361574],\n",
              "        [7.51084721, 1.66907716],\n",
              "        [8.34538579, 0.83453858],\n",
              "        [7.51084721, 1.66907716],\n",
              "        [6.67630863, 2.50361574],\n",
              "        [5.84177005, 3.33815432],\n",
              "        [5.00723147, 4.1726929 ],\n",
              "        [4.1726929 , 5.00723147],\n",
              "        [3.33815432, 5.84177005],\n",
              "        [2.50361574, 6.67630863],\n",
              "        [1.66907716, 7.51084721],\n",
              "        [0.83453858, 8.34538579],\n",
              "        [1.66907716, 7.51084721]]), array([2.50361574, 6.67630863]))"
            ]
          },
          "metadata": {
            "tags": []
          },
          "execution_count": 6
        }
      ]
    },
    {
      "cell_type": "code",
      "metadata": {
        "id": "rxcPiNYiqbvF",
        "colab_type": "code",
        "colab": {
          "base_uri": "https://localhost:8080/",
          "height": 255
        },
        "outputId": "b8d1c049-c4f0-4400-8cd1-c7729afef966"
      },
      "source": [
        "\n",
        "in_out_neurons = 2  \n",
        "hidden_neurons = 300\n",
        "\n",
        "model = tf.keras.models.Sequential()  \n",
        "model.add(tf.keras.layers.Lambda(lambda x: tf.expand_dims(x, axis=-1),\n",
        "                      input_shape=[None]))\n",
        "model.add(tf.keras.layers.LSTM(in_out_neurons, return_sequences=False))  \n",
        "model.add(tf.keras.layers.Dense(hidden_neurons,activation='linear'))  \n",
        "model.compile(loss=\"mean_squared_error\", optimizer=\"rmsprop\") \n",
        "model.summary()"
      ],
      "execution_count": 14,
      "outputs": [
        {
          "output_type": "stream",
          "text": [
            "Model: \"sequential_3\"\n",
            "_________________________________________________________________\n",
            "Layer (type)                 Output Shape              Param #   \n",
            "=================================================================\n",
            "lambda_2 (Lambda)            (None, None, 1)           0         \n",
            "_________________________________________________________________\n",
            "lstm_3 (LSTM)                (None, 2)                 32        \n",
            "_________________________________________________________________\n",
            "dense_2 (Dense)              (None, 300)               900       \n",
            "=================================================================\n",
            "Total params: 932\n",
            "Trainable params: 932\n",
            "Non-trainable params: 0\n",
            "_________________________________________________________________\n"
          ],
          "name": "stdout"
        }
      ]
    },
    {
      "cell_type": "code",
      "metadata": {
        "id": "WkAHFSMms_FA",
        "colab_type": "code",
        "colab": {}
      },
      "source": [
        "model.fit(X_train, y_train, batch_size=450, nb_epoch=10, validation_split=0.05)  \n"
      ],
      "execution_count": 0,
      "outputs": []
    },
    {
      "cell_type": "code",
      "metadata": {
        "id": "4sTTIOCbyShY",
        "colab_type": "code",
        "colab": {}
      },
      "source": [
        "def windowed_dataset(series, window_size, batch_size, shuffle_buffer):\n",
        "  dataset = tf.data.Dataset.from_tensor_slices(series)\n",
        "  dataset = dataset.window(window_size + 1, shift=1, drop_remainder=True)\n",
        "  dataset = dataset.flat_map(lambda window: window.batch(window_size + 1))\n",
        "  dataset = dataset.shuffle(shuffle_buffer).map(lambda window: (window[:-1], window[-1]))\n",
        "  dataset = dataset.batch(batch_size).prefetch(1)\n",
        "  return dataset"
      ],
      "execution_count": 0,
      "outputs": []
    },
    {
      "cell_type": "code",
      "metadata": {
        "id": "xFDr3wfXv8-I",
        "colab_type": "code",
        "colab": {}
      },
      "source": [
        "\n",
        "window_size = 20\n",
        "batch_size = 32\n",
        "shuffle_buffer_size = 1000"
      ],
      "execution_count": 0,
      "outputs": []
    },
    {
      "cell_type": "code",
      "metadata": {
        "id": "A1Hl39rklkLm",
        "colab_type": "code",
        "outputId": "127514a2-6e1a-4e00-f55d-87c3f294c786",
        "colab": {
          "base_uri": "https://localhost:8080/",
          "height": 374
        }
      },
      "source": [
        "tf.keras.backend.clear_session()\n",
        "tf.random.set_seed(51)\n",
        "np.random.seed(51)\n",
        "\n",
        "tf.keras.backend.clear_session()\n",
        "dataset = windowed_dataset(X_train, window_size, batch_size, shuffle_buffer_size)\n",
        "\n",
        "model = tf.keras.models.Sequential([\n",
        "  tf.keras.layers.LSTM(32,input_shape=(100,2), return_sequences=True),\n",
        "  tf.keras.layers.LSTM(32),\n",
        "  tf.keras.layers.Dense(2),\n",
        "  tf.keras.layers.Lambda(lambda x: x * 100.0)\n",
        "])\n",
        "\n",
        "lr_schedule = tf.keras.callbacks.LearningRateScheduler(\n",
        "    lambda epoch: 1e-8 * 10**(epoch / 20))\n",
        "optimizer = tf.keras.optimizers.SGD(lr=1e-8, momentum=0.9)\n",
        "model.compile(loss=tf.keras.losses.Huber(),\n",
        "              optimizer=optimizer,\n",
        "              metrics=[\"mae\"])\n",
        "history = model.fit(X_train,y_train, epochs=10, callbacks=[lr_schedule])"
      ],
      "execution_count": 23,
      "outputs": [
        {
          "output_type": "stream",
          "text": [
            "Train on 16091 samples\n",
            "Epoch 1/10\n",
            "16091/16091 [==============================] - 45s 3ms/sample - loss: 40.6806 - mae: 41.1806\n",
            "Epoch 2/10\n",
            "16091/16091 [==============================] - 43s 3ms/sample - loss: 34.2660 - mae: 34.7660\n",
            "Epoch 3/10\n",
            "16091/16091 [==============================] - 43s 3ms/sample - loss: 27.0669 - mae: 27.5668\n",
            "Epoch 4/10\n",
            "16091/16091 [==============================] - 43s 3ms/sample - loss: 19.0384 - mae: 19.5384\n",
            "Epoch 5/10\n",
            "16091/16091 [==============================] - 43s 3ms/sample - loss: 10.8116 - mae: 11.2975\n",
            "Epoch 6/10\n",
            "16091/16091 [==============================] - 43s 3ms/sample - loss: 6.2852 - mae: 6.7708\n",
            "Epoch 7/10\n",
            "16091/16091 [==============================] - 43s 3ms/sample - loss: 3.9513 - mae: 4.4303\n",
            "Epoch 8/10\n",
            "16091/16091 [==============================] - 43s 3ms/sample - loss: 2.9129 - mae: 3.3563\n",
            "Epoch 9/10\n",
            "16091/16091 [==============================] - 43s 3ms/sample - loss: 2.3891 - mae: 2.8227\n",
            "Epoch 10/10\n",
            "16091/16091 [==============================] - 43s 3ms/sample - loss: 2.0590 - mae: 2.4877\n"
          ],
          "name": "stdout"
        }
      ]
    },
    {
      "cell_type": "code",
      "metadata": {
        "id": "fQ98QNMo1rF5",
        "colab_type": "code",
        "colab": {
          "base_uri": "https://localhost:8080/",
          "height": 290
        },
        "outputId": "6bf72ad9-7bef-4fa9-cc6d-a604592b7a3e"
      },
      "source": [
        "import matplotlib.pyplot as plt\n",
        "\n",
        "plt.semilogx(history.history[\"lr\"], history.history[\"loss\"])\n",
        "plt.axis([1e-8, 1e-4, 0, 30])"
      ],
      "execution_count": 24,
      "outputs": [
        {
          "output_type": "execute_result",
          "data": {
            "text/plain": [
              "[1e-08, 0.0001, 0, 30]"
            ]
          },
          "metadata": {
            "tags": []
          },
          "execution_count": 24
        },
        {
          "output_type": "display_data",
          "data": {
            "image/png": "[encoded data removed]",
            "text/plain": [
              "<Figure size 432x288 with 1 Axes>"
            ]
          },
          "metadata": {
            "tags": []
          }
        }
      ]
    },
    {
      "cell_type": "code",
      "metadata": {
        "id": "g5ynKXCEP_6k",
        "colab_type": "code",
        "colab": {}
      },
      "source": [
        "predicted = model.predict(X_test)  \n",
        "rmse = np.sqrt(((predicted - y_test) ** 2).mean(axis=0))\n",
        "\n",
        "# and maybe plot it\n",
        "predicted = pd.DataFrame(predicted[:100])  \n",
        "#pd.DataFrame(y_test[:100]).plot()  \n",
        "\n"
      ],
      "execution_count": 0,
      "outputs": []
    },
    {
      "cell_type": "code",
      "metadata": {
        "id": "PfEJSWjxUObt",
        "colab_type": "code",
        "colab": {
          "base_uri": "https://localhost:8080/",
          "height": 419
        },
        "outputId": "e8cbf7da-0898-47d3-9ca2-f4aeca8a1739"
      },
      "source": [
        "predicted"
      ],
      "execution_count": 26,
      "outputs": [
        {
          "output_type": "execute_result",
          "data": {
            "text/html": [
              "<div>\n",
              "<style scoped>\n",
              "    .dataframe tbody tr th:only-of-type {\n",
              "        vertical-align: middle;\n",
              "    }\n",
              "\n",
              "    .dataframe tbody tr th {\n",
              "        vertical-align: top;\n",
              "    }\n",
              "\n",
              "    .dataframe thead th {\n",
              "        text-align: right;\n",
              "    }\n",
              "</style>\n",
              "<table border=\"1\" class=\"dataframe\">\n",
              "  <thead>\n",
              "    <tr style=\"text-align: right;\">\n",
              "      <th></th>\n",
              "      <th>0</th>\n",
              "      <th>1</th>\n",
              "    </tr>\n",
              "  </thead>\n",
              "  <tbody>\n",
              "    <tr>\n",
              "      <th>0</th>\n",
              "      <td>2.412052</td>\n",
              "      <td>3.013484</td>\n",
              "    </tr>\n",
              "    <tr>\n",
              "      <th>1</th>\n",
              "      <td>2.298589</td>\n",
              "      <td>2.832658</td>\n",
              "    </tr>\n",
              "    <tr>\n",
              "      <th>2</th>\n",
              "      <td>2.243914</td>\n",
              "      <td>3.196064</td>\n",
              "    </tr>\n",
              "    <tr>\n",
              "      <th>3</th>\n",
              "      <td>2.110239</td>\n",
              "      <td>4.025272</td>\n",
              "    </tr>\n",
              "    <tr>\n",
              "      <th>4</th>\n",
              "      <td>1.921666</td>\n",
              "      <td>5.119688</td>\n",
              "    </tr>\n",
              "    <tr>\n",
              "      <th>...</th>\n",
              "      <td>...</td>\n",
              "      <td>...</td>\n",
              "    </tr>\n",
              "    <tr>\n",
              "      <th>95</th>\n",
              "      <td>1.777302</td>\n",
              "      <td>6.303748</td>\n",
              "    </tr>\n",
              "    <tr>\n",
              "      <th>96</th>\n",
              "      <td>2.003229</td>\n",
              "      <td>7.420664</td>\n",
              "    </tr>\n",
              "    <tr>\n",
              "      <th>97</th>\n",
              "      <td>3.083922</td>\n",
              "      <td>8.221068</td>\n",
              "    </tr>\n",
              "    <tr>\n",
              "      <th>98</th>\n",
              "      <td>5.141917</td>\n",
              "      <td>8.461130</td>\n",
              "    </tr>\n",
              "    <tr>\n",
              "      <th>99</th>\n",
              "      <td>7.717917</td>\n",
              "      <td>7.978533</td>\n",
              "    </tr>\n",
              "  </tbody>\n",
              "</table>\n",
              "<p>100 rows × 2 columns</p>\n",
              "</div>"
            ],
            "text/plain": [
              "           0         1\n",
              "0   2.412052  3.013484\n",
              "1   2.298589  2.832658\n",
              "2   2.243914  3.196064\n",
              "3   2.110239  4.025272\n",
              "4   1.921666  5.119688\n",
              "..       ...       ...\n",
              "95  1.777302  6.303748\n",
              "96  2.003229  7.420664\n",
              "97  3.083922  8.221068\n",
              "98  5.141917  8.461130\n",
              "99  7.717917  7.978533\n",
              "\n",
              "[100 rows x 2 columns]"
            ]
          },
          "metadata": {
            "tags": []
          },
          "execution_count": 26
        }
      ]
    },
    {
      "cell_type": "code",
      "metadata": {
        "id": "0cro-5PiVSuB",
        "colab_type": "code",
        "colab": {
          "base_uri": "https://localhost:8080/",
          "height": 34
        },
        "outputId": "bc68de32-9515-4cc2-f932-9c155205528c"
      },
      "source": [
        "X_test.shape"
      ],
      "execution_count": 22,
      "outputs": [
        {
          "output_type": "execute_result",
          "data": {
            "text/plain": [
              "(1699, 100, 2)"
            ]
          },
          "metadata": {
            "tags": []
          },
          "execution_count": 22
        }
      ]
    },
    {
      "cell_type": "code",
      "metadata": {
        "id": "8WRD5Vs0RMpt",
        "colab_type": "code",
        "colab": {
          "base_uri": "https://localhost:8080/",
          "height": 34
        },
        "outputId": "c2599f71-79bb-421b-ba2f-020a0bbdc770"
      },
      "source": [
        "rmse"
      ],
      "execution_count": 15,
      "outputs": [
        {
          "output_type": "execute_result",
          "data": {
            "text/plain": [
              "array([2.98652083, 1.94727629])"
            ]
          },
          "metadata": {
            "tags": []
          },
          "execution_count": 15
        }
      ]
    }
  ]
}